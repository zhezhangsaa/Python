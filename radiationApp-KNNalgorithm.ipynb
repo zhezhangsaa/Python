{
 "cells": [
  {
   "cell_type": "code",
   "execution_count": 1,
   "metadata": {
    "scrolled": false
   },
   "outputs": [],
   "source": [
    "import folium\n",
    "from IPython.display import IFrame\n",
    "import pandas as pd\n",
    "\n",
    "from folium.plugins import MarkerCluster\n",
    "from IPython.display import IFrame\n",
    "\n",
    "from ipywidgets import interact, interactive, FloatSlider, widgets, HBox, Label\n",
    "from IPython.display import display\n",
    "from ipywidgets import widgets\n",
    "from ipywidgets import FloatSlider, widgets, RadioButtons\n",
    "\n",
    "from IPython.display import display, clear_output, IFrame\n",
    "import numpy as np\n",
    "from sklearn.neighbors import NearestNeighbors\n",
    "\n",
    "button1 = widgets.Button(description=\"Get CRL Location\")\n",
    "button2 = widgets.Button(description=\"Get Nearest Neighbors\")\n",
    "display(button1)\n",
    "display(button2)  \n",
    "# read the radiation data \n",
    "radiation = np.genfromtxt('radDataNew.csv',delimiter=',')\n",
    "np.set_printoptions(precision=2)\n",
    "Y = radiation[:,0:2] # extract firs two columns of the radiation data\n",
    "detectorInput = Y[10] # this is the detector input. we take the 4th row of the data. Array [37.67, 140.07]\n",
    "KNNInput=np.matrix([detectorInput])\n",
    "#print(KNNInput)# this is KNN input [[  37.67  140.07   48.  ]]\n",
    "#print (detectorInput)\n",
    "#X= Y[0:2, :3] # this is KNN input point as multiple array. this is the third row of the data Y \n",
    "#print(X)\n",
    "IFrame('urbana.html',width=700,height=600)\n",
    "basemap = folium.Map(location=[37.54, 140.12],tiles='Stamen Terrain', zoom_start=10) \n",
    "fg=folium.FeatureGroup(name='my map')\n",
    "def on_button1_clicked(b): \n",
    "\n",
    "    folium.CircleMarker([detectorInput[0],detectorInput[1]], radius=10, color='red',fill=True, fill_color='red', popup='Sensor Location',fill_opacity=0.7).add_to(basemap)\n",
    "    \n",
    "    basemap.save('urbana.html')\n",
    "    display(IFrame('urbana.html',width=700,height=700))   \n",
    "    # button clicked events\n",
    "button1.on_click(on_button1_clicked)\n",
    "    \n",
    "def on_button2_clicked(b): \n",
    "    \n",
    "    folium.CircleMarker([detectorInput[0],detectorInput[1]], radius=10, color='red',fill=True, fill_color='red', popup='Sensor Location',fill_opacity=0.7).add_to(basemap)\n",
    "    knn = NearestNeighbors(n_neighbors=10, p=2, algorithm='ball_tree') # we generate 10 nearest neighbor distance matrix \n",
    "    knn.fit(Y)\n",
    "    neighbors=knn.kneighbors(KNNInput, n_neighbors=4, return_distance=False) # query the nearst neighbor matrix and select the X's 6 nearest neighbors. \n",
    "    \n",
    "    lenOfNeighbors=sum(len(x) for x in neighbors) # length of the nearest neighbors. In this case is 6 \n",
    "\n",
    "    sumValue = 0\n",
    "    for x in np.nditer(neighbors[0], order='F'):\n",
    "        eachPointValue= radiation[x][2]\n",
    "       \n",
    "        sumValue += eachPointValue\n",
    "        eachPointXcor = radiation[x][0]\n",
    "        eachPointYcor = radiation[x][1]\n",
    "       \n",
    "        fg.add_child(folium.CircleMarker([eachPointXcor, eachPointYcor], radius=5, color='blue',fill=True, fill_color='blue',fill_opacity=0.7,popup='nearest K neighbors'))\n",
    "        basemap.add_child(fg) \n",
    "    basemap.save('urbana.html')\n",
    "    display(IFrame('urbana.html',width=700,height=700))\n",
    "    \n",
    "    meanValue = sumValue/ lenOfNeighbors # 21.833\n",
    "    \n",
    "    if meanValue>radiation[10,2]: \n",
    "        print('A radiation source is found!')\n",
    "\n",
    "    else: \n",
    "        print('No radiation source is found!')\n",
    "button2.on_click(on_button2_clicked)\n",
    "\n",
    "    "
   ]
  },
  {
   "cell_type": "code",
   "execution_count": null,
   "metadata": {
    "collapsed": true
   },
   "outputs": [],
   "source": []
  }
 ],
 "metadata": {
  "kernelspec": {
   "display_name": "Python 3",
   "language": "python",
   "name": "python3"
  },
  "language_info": {
   "codemirror_mode": {
    "name": "ipython",
    "version": 3
   },
   "file_extension": ".py",
   "mimetype": "text/x-python",
   "name": "python",
   "nbconvert_exporter": "python",
   "pygments_lexer": "ipython3",
   "version": "3.6.4"
  },
  "widgets": {
   "state": {
    "65fe71d6be7241db8bd9784b2d420181": {
     "views": [
      {
       "cell_index": 0
      }
     ]
    },
    "8c44d52e18834ab2b9d26b63f1ce9741": {
     "views": [
      {
       "cell_index": 0
      }
     ]
    }
   },
   "version": "1.2.0"
  }
 },
 "nbformat": 4,
 "nbformat_minor": 2
}
